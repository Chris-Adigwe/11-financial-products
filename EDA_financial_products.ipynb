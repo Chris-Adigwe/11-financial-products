{
  "nbformat": 4,
  "nbformat_minor": 0,
  "metadata": {
    "colab": {
      "name": "EDA_financial_products.ipynb",
      "provenance": [],
      "authorship_tag": "ABX9TyPo3cNXFUKY+eUMtVRjF+vh",
      "include_colab_link": true
    },
    "kernelspec": {
      "name": "python3",
      "display_name": "Python 3"
    }
  },
  "cells": [
    {
      "cell_type": "markdown",
      "metadata": {
        "id": "view-in-github",
        "colab_type": "text"
      },
      "source": [
        "<a href=\"https://colab.research.google.com/github/Soot3/11-financial-products/blob/master/EDA_financial_products.ipynb\" target=\"_parent\"><img src=\"https://colab.research.google.com/assets/colab-badge.svg\" alt=\"Open In Colab\"/></a>"
      ]
    },
    {
      "cell_type": "markdown",
      "metadata": {
        "id": "WvZ0smcSphZs",
        "colab_type": "text"
      },
      "source": [
        "Exploratory Data Analysis"
      ]
    },
    {
      "cell_type": "code",
      "metadata": {
        "id": "L9RysPPepKmr",
        "colab_type": "code",
        "colab": {
          "base_uri": "https://localhost:8080/",
          "height": 221
        },
        "outputId": "b36173fe-9a4e-4e42-fc68-42d8d03f73a9"
      },
      "source": [
        "import pandas as pd\n",
        "import matplotlib.pyplot as plt\n",
        "import matplotlib.style as style\n",
        "%matplotlib inline\n",
        "import seaborn as sns\n",
        "style.use('fivethirtyeight')\n",
        "sns.set_context(\"poster\")\n",
        "sns.color_palette(\"Paired\")"
      ],
      "execution_count": 2,
      "outputs": [
        {
          "output_type": "execute_result",
          "data": {
            "text/plain": [
              "[(0.6509803921568628, 0.807843137254902, 0.8901960784313725),\n",
              " (0.12156862745098039, 0.47058823529411764, 0.7058823529411765),\n",
              " (0.6980392156862745, 0.8745098039215686, 0.5411764705882353),\n",
              " (0.2, 0.6274509803921569, 0.17254901960784313),\n",
              " (0.984313725490196, 0.6039215686274509, 0.6),\n",
              " (0.8901960784313725, 0.10196078431372549, 0.10980392156862745),\n",
              " (0.9921568627450981, 0.7490196078431373, 0.43529411764705883),\n",
              " (1.0, 0.4980392156862745, 0.0),\n",
              " (0.792156862745098, 0.6980392156862745, 0.8392156862745098),\n",
              " (0.41568627450980394, 0.23921568627450981, 0.6039215686274509),\n",
              " (1.0, 1.0, 0.6),\n",
              " (0.6941176470588235, 0.34901960784313724, 0.1568627450980392)]"
            ]
          },
          "metadata": {
            "tags": []
          },
          "execution_count": 2
        }
      ]
    },
    {
      "cell_type": "code",
      "metadata": {
        "id": "Xp-czcN3pcg_",
        "colab_type": "code",
        "colab": {
          "base_uri": "https://localhost:8080/",
          "height": 51
        },
        "outputId": "dace58ca-f09b-4d89-f7d1-c48e69f30a51"
      },
      "source": [
        "dataset = pd.read_csv('https://media.githubusercontent.com/media/HamoyeHQ/11-financial-products/master/data/consumer_complaints.csv')"
      ],
      "execution_count": 3,
      "outputs": [
        {
          "output_type": "stream",
          "text": [
            "/usr/local/lib/python3.6/dist-packages/IPython/core/interactiveshell.py:2718: DtypeWarning: Columns (5,11) have mixed types.Specify dtype option on import or set low_memory=False.\n",
            "  interactivity=interactivity, compiler=compiler, result=result)\n"
          ],
          "name": "stderr"
        }
      ]
    },
    {
      "cell_type": "code",
      "metadata": {
        "id": "mZIjrU0Npuo9",
        "colab_type": "code",
        "colab": {}
      },
      "source": [
        ""
      ],
      "execution_count": null,
      "outputs": []
    }
  ]
}